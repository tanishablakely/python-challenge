{
 "cells": [
  {
   "cell_type": "code",
   "execution_count": 28,
   "metadata": {},
   "outputs": [
    {
     "name": "stdout",
     "output_type": "stream",
     "text": [
      "Election Results\n",
      "-------------------------\n",
      "Total Votes: 1048575\n",
      "-------------------------\n",
      "Khan: 63.094% (661583)\n",
      "Correy: 19.936% (209046)\n",
      "Li: 13.958% (146360)\n",
      "O'Tooley: 3.012% (31586)\n",
      "-------------------------\n",
      "Winner: Khan\n",
      "-------------------------\n"
     ]
    }
   ],
   "source": [
    "#%%writefile main.py\n",
    "import os\n",
    "import csv\n",
    "with open('election_data.csv', 'r') as csv_file:\n",
    "    csv_reader_object = csv.reader(csv_file, delimiter=',')\n",
    "\n",
    "#Set Variables\n",
    "    #Skip Header\n",
    "    header = next(csv_reader_object)\n",
    "    #total_votes = 0\n",
    "    # Candidate List\n",
    "    #candidate_list = ['Khan','Correy','Li','O Tooley']\n",
    "    # Track Candidate Votes\n",
    "    #candidate_votes = [0, 0, 0, 0]\n",
    "    # Display Election Results\n",
    "    #print (\"Election Results\\n----------------\")\n",
    "   \n",
    "    #for row in csv_reader_object:        \n",
    "        #total_votes = sum(1 for row in csv_reader_object)\n",
    "    # The total number of votes cast\n",
    "    total_votes = 0\n",
    "    \n",
    "    # Track Candidate Votes\n",
    "    candidates = dict()\n",
    "    winner = ''\n",
    "    \n",
    "    for row in csv_reader_object:\n",
    "        total_votes = total_votes + 1\n",
    "        if row[2] in candidates:\n",
    "            candidates[row[2]] = candidates[row[2]] + 1\n",
    "        else:\n",
    "            candidates[row[2]] = 1\n",
    "    # The winner of the election based on popular vote.        \n",
    "    winner = max(candidates.items(), key=lambda x : x[1])\n",
    "\n",
    "    # Print Election Results\n",
    "\n",
    "    print(\"Election Results\")\n",
    "    print(\"-------------------------\")\n",
    "    print(f\"Total Votes: {total_votes}\")\n",
    "    print(\"-------------------------\")\n",
    "    \n",
    "   \n",
    "    # The percentage and total number of votes each candidate won\n",
    "    for candidate, votes in candidates.items():\n",
    "        print(f\"{candidate}: {round(votes*100/total_votes,3)}% ({votes})\")\n",
    "    print(\"-------------------------\")\n",
    "    print(f\"Winner: {winner[0]}\")\n",
    "    print(\"-------------------------\")\n",
    "    \n",
    "    # Final script should both print the analysis to the terminal and export a text file with the results.\n",
    "    with open('results.txt', 'w') as output_file: \n",
    "        output_file.write(\"Election Results\\n-------------------------\\n\")\n",
    "        output_file.write(f\"Total Votes: {total_votes}\\n\")\n",
    "        output_file.write(\"-------------------------\\n\")\n",
    "        for candidate, votes in candidates.items():\n",
    "            output_file.write(f\"{candidate}: {round(votes*100/total_votes,3)}% ({votes})\\n\")\n",
    "        output_file.write(\"-------------------------\\n\")    \n",
    "        output_file.write(f\"Winner: {winner[0]}\\n\")\n",
    "        output_file.write(\"-------------------------\")"
   ]
  },
  {
   "cell_type": "code",
   "execution_count": null,
   "metadata": {},
   "outputs": [],
   "source": []
  }
 ],
 "metadata": {
  "kernelspec": {
   "display_name": "Python 3",
   "language": "python",
   "name": "python3"
  },
  "language_info": {
   "codemirror_mode": {
    "name": "ipython",
    "version": 3
   },
   "file_extension": ".py",
   "mimetype": "text/x-python",
   "name": "python",
   "nbconvert_exporter": "python",
   "pygments_lexer": "ipython3",
   "version": "3.7.4"
  }
 },
 "nbformat": 4,
 "nbformat_minor": 4
}
