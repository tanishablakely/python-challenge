{
 "cells": [
  {
   "cell_type": "code",
   "execution_count": 4,
   "metadata": {},
   "outputs": [
    {
     "name": "stdout",
     "output_type": "stream",
     "text": [
      "Financial Analysis\n",
      "----------------\n",
      "Total Months: 86\n",
      "Total: $38382578\n",
      "Average Change: $-2288.2\n",
      "Greatest Increase in Profits: $1926159\n",
      "Greatest Decrease in Profits: $-2196167\n"
     ]
    }
   ],
   "source": [
    "#%%writefile main.py\n",
    "\n",
    "# Store the file path associated with the file (note the backslash may be OS specific)\n",
    "import os\n",
    "import csv\n",
    "\n",
    "csv_path = '03-Python_budget_data.csv'\n",
    "\n",
    "with open(csv_path) as csv_file:\n",
    "\n",
    "    # CSV reader specifies delimiter and variable that holds contents\n",
    "    csv_reader = csv.reader(csv_file, delimiter=',')\n",
    "\n",
    "    # Skip Header\n",
    "    csv_header = next(csv_reader)\n",
    "    total_months = 0\n",
    "    total_amount = 0\n",
    "    previous_amount = 0\n",
    "    current_amount = 0\n",
    "    changes = []\n",
    "    total_change = 0\n",
    "    average_change = 0 \n",
    "    max_change = 0\n",
    "    min_change = 0\n",
    "    \n",
    "    print (\"Financial Analysis\\n----------------\")\n",
    "\n",
    "    for row in csv_reader:\n",
    "        current_amount = row[1]\n",
    "        \n",
    "        #Calculate change in \"Profit/Losses\" from a previous period after the first month.\n",
    "        if total_months > 0:\n",
    "            changes.append(int(current_amount) - int(previous_amount))\n",
    "        # The total number of months included in the dataset\n",
    "        total_months = total_months + 1\n",
    "        \n",
    "        # The net total amount of \"Profit/Losses\" over the entire period\n",
    "        total_amount = total_amount + int(current_amount)\n",
    "        \n",
    "        # Set value for the next iteration\n",
    "        previous_amount = current_amount\n",
    "    #for (month, change) in changes.items():\n",
    "    for change in changes:\n",
    "        # The total change in \"Profit/Losses\"\n",
    "        total_change = total_change + change\n",
    "        \n",
    "    #The average of the changes in \"Profit/Losses\" over the entire period\n",
    "    average_change = total_change/total_months\n",
    "        \n",
    "    #Print results\n",
    "    print (f\"Total Months: {total_months}\")\n",
    "    print (f\"Total: ${total_amount}\")\n",
    "    print (f\"Average Change: ${round(average_change,2)}\")\n",
    "    print (f\"Greatest Increase in Profits: ${max(changes)}\")\n",
    "    print (f\"Greatest Decrease in Profits: ${min(changes)}\")"
   ]
  },
  {
   "cell_type": "code",
   "execution_count": null,
   "metadata": {},
   "outputs": [],
   "source": []
  }
 ],
 "metadata": {
  "kernelspec": {
   "display_name": "Python 3",
   "language": "python",
   "name": "python3"
  },
  "language_info": {
   "codemirror_mode": {
    "name": "ipython",
    "version": 3
   },
   "file_extension": ".py",
   "mimetype": "text/x-python",
   "name": "python",
   "nbconvert_exporter": "python",
   "pygments_lexer": "ipython3",
   "version": "3.7.4"
  }
 },
 "nbformat": 4,
 "nbformat_minor": 4
}
